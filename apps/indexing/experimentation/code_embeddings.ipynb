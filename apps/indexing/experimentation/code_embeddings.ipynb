{
 "cells": [
  {
   "cell_type": "code",
   "execution_count": 7,
   "id": "1a5f8b97",
   "metadata": {},
   "outputs": [],
   "source": [
    "from transformers import AutoModel\n",
    "from numpy.linalg import norm"
   ]
  },
  {
   "cell_type": "code",
   "execution_count": 8,
   "id": "c016a35f",
   "metadata": {},
   "outputs": [],
   "source": [
    "model = AutoModel.from_pretrained('jinaai/jina-embeddings-v2-base-code', trust_remote_code=True)"
   ]
  },
  {
   "cell_type": "code",
   "execution_count": 13,
   "id": "77582597",
   "metadata": {},
   "outputs": [
    {
     "name": "stdout",
     "output_type": "stream",
     "text": [
      "0, 1: 0.7281750440597534\n",
      "0, 2: 0.1965203881263733\n",
      "0, 3: 0.7215346097946167\n",
      "0, 4: 0.41217344999313354\n"
     ]
    }
   ],
   "source": [
    "cos_sim = lambda a,b: (a @ b.T) / (norm(a)*norm(b))\n",
    "\n",
    "embeddings = model.encode(\n",
    "    [\n",
    "        'How do I access the index while iterating over a sequence with a for loop?',\n",
    "        '# Use the built-in enumerator\\nfor idx, x in enumerate(xs):\\n    print(idx, x)',\n",
    "        'def fact(n):\\n if n < 0:\\n  raise ValueError\\n return 1 if n == 0 else n * fact(n - 1)',\n",
    "        'for idx, x in enumerate(xs):\\n    print(idx, x)',\n",
    "        'for item in list:\\nprint(item)'\n",
    "    ]\n",
    ")\n",
    "\n",
    "for i, embedding in enumerate(embeddings):\n",
    "    if i == 0:\n",
    "        continue\n",
    "    print(f\"0, {i}: {cos_sim(embeddings[0], embedding)}\")"
   ]
  }
 ],
 "metadata": {
  "kernelspec": {
   "display_name": ".venv",
   "language": "python",
   "name": "python3"
  },
  "language_info": {
   "codemirror_mode": {
    "name": "ipython",
    "version": 3
   },
   "file_extension": ".py",
   "mimetype": "text/x-python",
   "name": "python",
   "nbconvert_exporter": "python",
   "pygments_lexer": "ipython3",
   "version": "3.13.1"
  }
 },
 "nbformat": 4,
 "nbformat_minor": 5
}
