{
 "cells": [
  {
   "cell_type": "code",
   "execution_count": 2,
   "id": "fbb75fdf",
   "metadata": {},
   "outputs": [
    {
     "name": "stderr",
     "output_type": "stream",
     "text": [
      "/Users/rajanagarwal/Downloads/Work/shadow/.venv/lib/python3.13/site-packages/tqdm/auto.py:21: TqdmWarning: IProgress not found. Please update jupyter and ipywidgets. See https://ipywidgets.readthedocs.io/en/stable/user_install.html\n",
      "  from .autonotebook import tqdm as notebook_tqdm\n"
     ]
    }
   ],
   "source": [
    "import torch\n",
    "import torch.nn.functional as F\n",
    "from transformers import AutoTokenizer, AutoModel"
   ]
  },
  {
   "cell_type": "code",
   "execution_count": null,
   "id": "a8f526de",
   "metadata": {},
   "outputs": [
    {
     "name": "stderr",
     "output_type": "stream",
     "text": [
      "Fetching 6 files:   0%|          | 0/6 [01:43<?, ?it/s]\n"
     ]
    }
   ],
   "source": [
    "tokenizer = AutoTokenizer.from_pretrained(\"nomic-ai/nomic-embed-code\")\n",
    "model = AutoModel.from_pretrained(\"nomic-ai/nomic-embed-code\")"
   ]
  },
  {
   "cell_type": "code",
   "execution_count": null,
   "id": "43b4cd67",
   "metadata": {},
   "outputs": [],
   "source": [
    "def last_token_pooling(hidden_states, attention_mask):\n",
    "    sequence_lengths = attention_mask.sum(-1) - 1\n",
    "    return hidden_states[torch.arange(hidden_states.shape[0]), sequence_lengths]\n",
    "\n",
    "queries = ['Represent this query for searching relevant code: Calculate the n-th factorial']\n",
    "codes = ['def fact(n):\\n if n < 0:\\n  raise ValueError\\n return 1 if n == 0 else n * fact(n - 1)']\n",
    "code_snippets = queries + codes\n",
    "\n",
    "encoded_input = tokenizer(code_snippets, padding=True, truncation=True, return_tensors='pt')\n",
    "model.eval()\n",
    "with torch.no_grad():\n",
    "    model_output = model(**encoded_input)[0]\n",
    "\n",
    "embeddings = last_token_pooling(model_output, encoded_input['attention_mask'])\n",
    "embeddings = F.normalize(embeddings, p=2, dim=1)\n",
    "print(embeddings.shape)\n",
    "\n",
    "similarity = F.cosine_similarity(embeddings[0], embeddings[1], dim=0)\n",
    "print(similarity)"
   ]
  }
 ],
 "metadata": {
  "kernelspec": {
   "display_name": ".venv",
   "language": "python",
   "name": "python3"
  },
  "language_info": {
   "codemirror_mode": {
    "name": "ipython",
    "version": 3
   },
   "file_extension": ".py",
   "mimetype": "text/x-python",
   "name": "python",
   "nbconvert_exporter": "python",
   "pygments_lexer": "ipython3",
   "version": "3.13.1"
  }
 },
 "nbformat": 4,
 "nbformat_minor": 5
}
